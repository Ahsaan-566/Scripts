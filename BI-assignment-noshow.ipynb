{
 "cells": [
  {
   "cell_type": "code",
   "execution_count": 32,
   "metadata": {},
   "outputs": [],
   "source": [
    "import pandas as pd\n",
    "import numpy as np\n",
    "import datetime"
   ]
  },
  {
   "cell_type": "code",
   "execution_count": 13,
   "metadata": {},
   "outputs": [
    {
     "name": "stdout",
     "output_type": "stream",
     "text": [
      "      PatientId  AppointmentID Gender          ScheduledDay  \\\n",
      "0  2.987250e+13        5642903      F  2016-04-29T18:38:08Z   \n",
      "1  5.589980e+14        5642503      M  2016-04-29T16:08:27Z   \n",
      "2  4.262960e+12        5642549      F  2016-04-29T16:19:04Z   \n",
      "3  8.679510e+11        5642828      F  2016-04-29T17:29:31Z   \n",
      "4  8.841190e+12        5642494      F  2016-04-29T16:07:23Z   \n",
      "\n",
      "         AppointmentDay  Age      Neighbourhood Scholarship Hipertension  \\\n",
      "0  2016-04-29T00:00:00Z   62    JARDIM DA PENHA          No          Yes   \n",
      "1  2016-04-29T00:00:00Z   56    JARDIM DA PENHA          No           No   \n",
      "2  2016-04-29T00:00:00Z   62      MATA DA PRAIA          No           No   \n",
      "3  2016-04-29T00:00:00Z    8  PONTAL DE CAMBURI          No           No   \n",
      "4  2016-04-29T00:00:00Z   56    JARDIM DA PENHA          No          Yes   \n",
      "\n",
      "  Diabetes Alcoholism Handcap SMS_received No-show  \n",
      "0       No         No      No           No      No  \n",
      "1       No         No      No           No      No  \n",
      "2       No         No      No           No      No  \n",
      "3       No         No      No           No      No  \n",
      "4      Yes         No      No           No      No  \n"
     ]
    }
   ],
   "source": [
    "df = pd.read_csv(\"/home/drogon/Desktop/BI/show.csv\")\n",
    "print df.head() "
   ]
  },
  {
   "cell_type": "code",
   "execution_count": 23,
   "metadata": {
    "scrolled": true
   },
   "outputs": [
    {
     "name": "stdout",
     "output_type": "stream",
     "text": [
      "['AppointmentID' 'Gender' 'ScheduledDay' 'AppointmentDay' 'Age'\n",
      " 'Neighbourhood' 'Scholarship' 'Hipertension' 'Diabetes' 'Alcoholism'\n",
      " 'Handcap' 'SMS_received' 'No-show']\n"
     ]
    }
   ],
   "source": [
    "print df.columns.values"
   ]
  },
  {
   "cell_type": "code",
   "execution_count": 24,
   "metadata": {},
   "outputs": [
    {
     "name": "stdout",
     "output_type": "stream",
     "text": [
      "AppointmentID     0\n",
      "Gender            0\n",
      "ScheduledDay      0\n",
      "AppointmentDay    0\n",
      "Age               0\n",
      "Neighbourhood     0\n",
      "Scholarship       0\n",
      "Hipertension      0\n",
      "Diabetes          0\n",
      "Alcoholism        0\n",
      "Handcap           0\n",
      "SMS_received      0\n",
      "No-show           0\n",
      "dtype: int64\n"
     ]
    }
   ],
   "source": [
    "print df.isnull().sum()"
   ]
  },
  {
   "cell_type": "code",
   "execution_count": null,
   "metadata": {},
   "outputs": [],
   "source": [
    "del df['AppointmentID']\n",
    "del df['PatientId']"
   ]
  },
  {
   "cell_type": "code",
   "execution_count": 31,
   "metadata": {},
   "outputs": [
    {
     "name": "stdout",
     "output_type": "stream",
     "text": [
      "['Gender' 'ScheduledDay' 'AppointmentDay' 'Age' 'Neighbourhood'\n",
      " 'Scholarship' 'Hipertension' 'Diabetes' 'Alcoholism' 'Handcap'\n",
      " 'SMS_received' 'No-show']\n"
     ]
    }
   ],
   "source": [
    "print df.columns.values"
   ]
  },
  {
   "cell_type": "code",
   "execution_count": 34,
   "metadata": {},
   "outputs": [
    {
     "name": "stdout",
     "output_type": "stream",
     "text": [
      "  Gender          ScheduledDay        AppointmentDay  Age      Neighbourhood  \\\n",
      "0      F  2016-04-29T18:38:08Z  2016-04-29T00:00:00Z   62    JARDIM DA PENHA   \n",
      "1      M  2016-04-29T16:08:27Z  2016-04-29T00:00:00Z   56    JARDIM DA PENHA   \n",
      "2      F  2016-04-29T16:19:04Z  2016-04-29T00:00:00Z   62      MATA DA PRAIA   \n",
      "3      F  2016-04-29T17:29:31Z  2016-04-29T00:00:00Z    8  PONTAL DE CAMBURI   \n",
      "4      F  2016-04-29T16:07:23Z  2016-04-29T00:00:00Z   56    JARDIM DA PENHA   \n",
      "\n",
      "  Scholarship Hipertension Diabetes Alcoholism Handcap SMS_received No-show  \n",
      "0          No          Yes       No         No      No           No      No  \n",
      "1          No           No       No         No      No           No      No  \n",
      "2          No           No       No         No      No           No      No  \n",
      "3          No           No       No         No      No           No      No  \n",
      "4          No          Yes      Yes         No      No           No      No  \n"
     ]
    }
   ],
   "source": [
    "print df.head()"
   ]
  },
  {
   "cell_type": "code",
   "execution_count": 62,
   "metadata": {},
   "outputs": [],
   "source": [
    "df = df.rename(columns={'Hipertension':'Hypertension'})\n",
    "df = df.rename(columns={'Diabetes':'Diabetic'})\n",
    "df = df.rename(columns={'Alcoholism':'Alcoholic'})"
   ]
  },
  {
   "cell_type": "code",
   "execution_count": 38,
   "metadata": {},
   "outputs": [
    {
     "name": "stdout",
     "output_type": "stream",
     "text": [
      "0        2016-04-29 18:38:08\n",
      "1        2016-04-29 16:08:27\n",
      "2        2016-04-29 16:19:04\n",
      "3        2016-04-29 17:29:31\n",
      "4        2016-04-29 16:07:23\n",
      "5        2016-04-27 08:36:51\n",
      "6        2016-04-27 15:05:12\n",
      "7        2016-04-27 15:39:58\n",
      "8        2016-04-29 08:02:16\n",
      "9        2016-04-27 12:48:25\n",
      "10       2016-04-27 14:58:11\n",
      "11       2016-04-26 08:44:12\n",
      "12       2016-04-28 11:33:51\n",
      "13       2016-04-28 14:52:07\n",
      "14       2016-04-28 10:06:24\n",
      "15       2016-04-26 08:47:27\n",
      "16       2016-04-28 08:51:47\n",
      "17       2016-04-28 09:28:57\n",
      "18       2016-04-26 10:54:18\n",
      "19       2016-04-29 10:43:14\n",
      "20       2016-04-27 07:51:14\n",
      "21       2016-04-27 10:50:45\n",
      "22       2016-04-25 13:29:16\n",
      "23       2016-04-28 10:27:05\n",
      "24       2016-04-29 14:19:19\n",
      "25       2016-04-26 15:04:17\n",
      "26       2016-04-29 14:19:42\n",
      "27       2016-04-27 10:51:45\n",
      "28       2016-04-29 15:48:02\n",
      "29       2016-04-29 15:16:29\n",
      "                 ...        \n",
      "110497   2016-06-01 09:46:33\n",
      "110498   2016-06-08 10:21:14\n",
      "110499   2016-06-01 09:42:56\n",
      "110500   2016-06-08 09:35:13\n",
      "110501   2016-06-01 10:19:12\n",
      "110502   2016-06-08 10:50:42\n",
      "110503   2016-06-01 13:00:36\n",
      "110504   2016-06-08 11:06:21\n",
      "110505   2016-06-01 10:45:50\n",
      "110506   2016-06-01 11:09:20\n",
      "110507   2016-06-08 09:04:18\n",
      "110508   2016-06-01 09:41:00\n",
      "110509   2016-06-08 08:50:51\n",
      "110510   2016-06-01 09:35:48\n",
      "110511   2016-06-08 08:50:20\n",
      "110512   2016-06-08 08:20:01\n",
      "110513   2016-06-08 07:52:55\n",
      "110514   2016-06-08 08:35:31\n",
      "110515   2016-06-06 15:58:05\n",
      "110516   2016-06-07 07:45:16\n",
      "110517   2016-06-07 07:38:34\n",
      "110518   2016-04-27 15:15:06\n",
      "110519   2016-04-27 15:23:14\n",
      "110520   2016-05-03 07:51:47\n",
      "110521   2016-05-03 08:23:40\n",
      "110522   2016-05-03 09:15:35\n",
      "110523   2016-05-03 07:27:33\n",
      "110524   2016-04-27 16:03:52\n",
      "110525   2016-04-27 15:09:23\n",
      "110526   2016-04-27 13:30:56\n",
      "Name: ScheduledDay, Length: 110527, dtype: datetime64[ns]\n"
     ]
    }
   ],
   "source": [
    "datetime = pd.to_datetime(df['ScheduledDay'])\n",
    "print datetime"
   ]
  },
  {
   "cell_type": "code",
   "execution_count": 41,
   "metadata": {},
   "outputs": [
    {
     "name": "stdout",
     "output_type": "stream",
     "text": [
      "  Gender          ScheduledDay        AppointmentDay  Age      Neighbourhood  \\\n",
      "0      F  2016-04-29T18:38:08Z  2016-04-29T00:00:00Z   62    JARDIM DA PENHA   \n",
      "1      M  2016-04-29T16:08:27Z  2016-04-29T00:00:00Z   56    JARDIM DA PENHA   \n",
      "2      F  2016-04-29T16:19:04Z  2016-04-29T00:00:00Z   62      MATA DA PRAIA   \n",
      "3      F  2016-04-29T17:29:31Z  2016-04-29T00:00:00Z    8  PONTAL DE CAMBURI   \n",
      "4      F  2016-04-29T16:07:23Z  2016-04-29T00:00:00Z   56    JARDIM DA PENHA   \n",
      "\n",
      "  Scholarship Hipertension Diabetes Alcoholism Handcap SMS_received No-show  \\\n",
      "0          No          Yes       No         No      No           No      No   \n",
      "1          No           No       No         No      No           No      No   \n",
      "2          No           No       No         No      No           No      No   \n",
      "3          No           No       No         No      No           No      No   \n",
      "4          No          Yes      Yes         No      No           No      No   \n",
      "\n",
      "   hour  \n",
      "0    18  \n",
      "1    16  \n",
      "2    16  \n",
      "3    17  \n",
      "4    16  \n"
     ]
    }
   ],
   "source": [
    "df['hour'] = datetime.dt.hour"
   ]
  },
  {
   "cell_type": "code",
   "execution_count": 45,
   "metadata": {},
   "outputs": [
    {
     "name": "stdout",
     "output_type": "stream",
     "text": [
      "  Gender          ScheduledDay        AppointmentDay  Age      Neighbourhood  \\\n",
      "0      F  2016-04-29T18:38:08Z  2016-04-29T00:00:00Z   62    JARDIM DA PENHA   \n",
      "1      M  2016-04-29T16:08:27Z  2016-04-29T00:00:00Z   56    JARDIM DA PENHA   \n",
      "2      F  2016-04-29T16:19:04Z  2016-04-29T00:00:00Z   62      MATA DA PRAIA   \n",
      "3      F  2016-04-29T17:29:31Z  2016-04-29T00:00:00Z    8  PONTAL DE CAMBURI   \n",
      "4      F  2016-04-29T16:07:23Z  2016-04-29T00:00:00Z   56    JARDIM DA PENHA   \n",
      "\n",
      "  Scholarship Hipertension Diabetes Alcoholism Handcap SMS_received No-show  \\\n",
      "0          No          Yes       No         No      No           No      No   \n",
      "1          No           No       No         No      No           No      No   \n",
      "2          No           No       No         No      No           No      No   \n",
      "3          No           No       No         No      No           No      No   \n",
      "4          No          Yes      Yes         No      No           No      No   \n",
      "\n",
      "   hour time_of_day  \n",
      "0    18     evening  \n",
      "1    16   afternoon  \n",
      "2    16   afternoon  \n",
      "3    17     evening  \n",
      "4    16   afternoon  \n"
     ]
    }
   ],
   "source": [
    "df['time_of_day'] = pd.cut(df['hour'],[0,5,12,16,20,23],include_lowest=True,labels = ['late_night','morning','afternoon','evening','night'])"
   ]
  },
  {
   "cell_type": "code",
   "execution_count": 47,
   "metadata": {},
   "outputs": [
    {
     "name": "stdout",
     "output_type": "stream",
     "text": [
      "  Gender          ScheduledDay        AppointmentDay  Age      Neighbourhood  \\\n",
      "0      F  2016-04-29T18:38:08Z  2016-04-29T00:00:00Z   62    JARDIM DA PENHA   \n",
      "1      M  2016-04-29T16:08:27Z  2016-04-29T00:00:00Z   56    JARDIM DA PENHA   \n",
      "2      F  2016-04-29T16:19:04Z  2016-04-29T00:00:00Z   62      MATA DA PRAIA   \n",
      "3      F  2016-04-29T17:29:31Z  2016-04-29T00:00:00Z    8  PONTAL DE CAMBURI   \n",
      "4      F  2016-04-29T16:07:23Z  2016-04-29T00:00:00Z   56    JARDIM DA PENHA   \n",
      "\n",
      "  Scholarship Hipertension Diabetes Alcoholism Handcap SMS_received No-show  \\\n",
      "0          No          Yes       No         No      No           No      No   \n",
      "1          No           No       No         No      No           No      No   \n",
      "2          No           No       No         No      No           No      No   \n",
      "3          No           No       No         No      No           No      No   \n",
      "4          No          Yes      Yes         No      No           No      No   \n",
      "\n",
      "   hour time_of_day  Month  \n",
      "0    18     evening      4  \n",
      "1    16   afternoon      4  \n",
      "2    16   afternoon      4  \n",
      "3    17     evening      4  \n",
      "4    16   afternoon      4  \n"
     ]
    }
   ],
   "source": [
    "df['Month'] = datetime.dt.month"
   ]
  },
  {
   "cell_type": "code",
   "execution_count": 59,
   "metadata": {},
   "outputs": [],
   "source": [
    "del df['ScheduledDay']\n",
    "del df['AppointmentDay']"
   ]
  },
  {
   "cell_type": "code",
   "execution_count": 55,
   "metadata": {},
   "outputs": [],
   "source": [
    "for i, val in enumerate(df['No-show']):\n",
    "    if val == 'No':\n",
    "        df.iloc[i,9] = 0\n",
    "    elif val == 'Yes':\n",
    "        df.iloc[i,9] = 1\n",
    "    "
   ]
  },
  {
   "cell_type": "code",
   "execution_count": 63,
   "metadata": {},
   "outputs": [
    {
     "name": "stdout",
     "output_type": "stream",
     "text": [
      "  Gender  Age      Neighbourhood Scholarship Hypertension Diabetic Alcoholic  \\\n",
      "0      F   62    JARDIM DA PENHA          No          Yes       No        No   \n",
      "1      M   56    JARDIM DA PENHA          No           No       No        No   \n",
      "2      F   62      MATA DA PRAIA          No           No       No        No   \n",
      "3      F    8  PONTAL DE CAMBURI          No           No       No        No   \n",
      "4      F   56    JARDIM DA PENHA          No          Yes      Yes        No   \n",
      "\n",
      "  Handcap SMS_received No-show  hour time_of_day  Month  \n",
      "0      No           No       0    18     evening      4  \n",
      "1      No           No       0    16   afternoon      4  \n",
      "2      No           No       0    16   afternoon      4  \n",
      "3      No           No       0    17     evening      4  \n",
      "4      No           No       0    16   afternoon      4  \n"
     ]
    }
   ],
   "source": [
    "print df.head()"
   ]
  },
  {
   "cell_type": "code",
   "execution_count": 64,
   "metadata": {},
   "outputs": [],
   "source": [
    "df.to_csv('/home/drogon/Desktop/BI/No-show(ETL).csv')"
   ]
  }
 ],
 "metadata": {
  "kernelspec": {
   "display_name": "Python 2",
   "language": "python",
   "name": "python2"
  },
  "language_info": {
   "codemirror_mode": {
    "name": "ipython",
    "version": 2
   },
   "file_extension": ".py",
   "mimetype": "text/x-python",
   "name": "python",
   "nbconvert_exporter": "python",
   "pygments_lexer": "ipython2",
   "version": "2.7.12"
  }
 },
 "nbformat": 4,
 "nbformat_minor": 2
}
